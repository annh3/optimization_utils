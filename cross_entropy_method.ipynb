{
 "cells": [
  {
   "cell_type": "code",
   "execution_count": 1,
   "id": "passing-acrobat",
   "metadata": {},
   "outputs": [],
   "source": [
    "import numpy as np\n",
    "import pdb"
   ]
  },
  {
   "cell_type": "markdown",
   "id": "individual-governor",
   "metadata": {},
   "source": [
    "### Deriving the ES Update\n",
    "\n",
    "\\begin{equation}\n",
    "\\nabla_{\\theta} \\mathbb{E}_{\\epsilon \\sim \\mathcal{N}(0,I)} [F(\\hat{\\theta} + \\sigma \\epsilon )] \\approx \\dfrac{1}{\\sigma} \\mathbb{E}_{\\epsilon \\sim \\mathcal{N}(0,I)} [ \\epsilon \\cdot F(\\hat{\\theta} + \\sigma \\epsilon )]\n",
    "\\end{equation}"
   ]
  },
  {
   "cell_type": "markdown",
   "id": "governmental-flush",
   "metadata": {},
   "source": [
    "where $\\theta = \\hat{\\theta} + \\sigma \\epsilon$"
   ]
  },
  {
   "cell_type": "markdown",
   "id": "nasty-newsletter",
   "metadata": {},
   "source": [
    "#### Using the log-probability trick\n",
    "\n",
    "\\begin{align*}\n",
    "\\nabla_{\\theta} \\mathbb{E}_{\\epsilon \\sim \\mathcal{N}(0,I)} [F(\\hat{\\theta} + \\sigma \\epsilon )] &= \\\\\n",
    "&= \\nabla_{\\theta} \\int_{\\epsilon} p(\\epsilon) F(\\hat{\\theta} + \\sigma \\epsilon ) d\\epsilon \\\\\n",
    "&= \\int_{\\epsilon} p(\\epsilon) \\nabla_\\epsilon \\log p(\\epsilon) \\nabla_\\theta \\epsilon F(\\hat{\\theta} + \\sigma \\epsilon ) d\\epsilon & \\scriptstyle{\\text{chain rule on } \\nabla_\\theta p(\\epsilon) \\text{; I think we're ignoring the other half of the product rule}}\\\\\n",
    "&= \\mathbb{E}_{\\epsilon \\sim \\mathcal{N}(0,I)} [\\nabla_\\epsilon \\log p(\\epsilon) \\nabla_\\theta \\epsilon F(\\hat{\\theta} + \\sigma \\epsilon )] & \\scriptstyle{\\text{; Gaussian }p(\\epsilon)=(2\\pi)^{-\\frac{n}{2}} \\exp(-\\frac{1}{2}\\epsilon^\\top\\epsilon)} \\\\\n",
    "&= \\mathbb{E}_{\\epsilon \\sim \\mathcal{N}(0,I)} [- \\epsilon \\nabla_\\theta \\big(\\dfrac{\\theta-\\hat{\\theta}}{\\sigma}\\big) F(\\hat{\\theta} + \\sigma \\epsilon )] \\\\\n",
    "&= \\mathbb{E}_{\\epsilon \\sim \\mathcal{N}(0,I)} [- \\epsilon \\dfrac{1}{\\sigma} F(\\hat{\\theta} + \\sigma \\epsilon )] \\\\\n",
    "&= \\dfrac{1}{\\sigma} \\mathbb{E}_{\\epsilon \\sim \\mathcal{N}(0,I)} [\\epsilon F(\\hat{\\theta} + \\sigma \\epsilon )]\n",
    "\\end{align*}\n",
    "\n",
    "Notes: \n",
    "* I'm not sure why the negative sign goes away.\n",
    "* If we do the other side of the chain rule we just get the expected gradient of F?\n",
    "* The code normalizes $F(\\hat{\\theta} + \\sigma \\epsilon )$\n",
    "* Which looks like batch/advantage normalization\n",
    "* but also looks like the first order derivative approximation\n",
    "\n",
    "\\begin{equation}\n",
    "F'(\\hat{\\theta} + \\sigma \\epsilon ) = \\dfrac{F(\\hat{\\theta} + \\sigma \\epsilon )- F(\\hat{\\theta})}{\\sigma \\epsilon}\n",
    "\\end{equation}"
   ]
  },
  {
   "cell_type": "code",
   "execution_count": 2,
   "id": "rubber-window",
   "metadata": {},
   "outputs": [],
   "source": [
    "# representing F as the score function for some quadratic function\n",
    "# we negate it so it is an inverted parabola with peak at (0,0); the max score is 0\n",
    "\n",
    "def F(fixed_w, x):\n",
    "    res1 = fixed_w - x\n",
    "    res2 = res1**2\n",
    "    #pdb.set_trace()\n",
    "    return -np.sqrt(np.sum((fixed_w - x)**2,axis=-1))"
   ]
  },
  {
   "cell_type": "code",
   "execution_count": 3,
   "id": "republican-sense",
   "metadata": {},
   "outputs": [],
   "source": [
    "# main algorithm\n",
    "# num_iters\n",
    "# N = population size\n",
    "# sigma - isotropic Gaussian std dev (a constant)\n",
    "# mu - mean of p(x)\n",
    "\n",
    "# for num_iters\n",
    "# perturb mu to get N versions of it, using\n",
    "# epsilon ~ N(0,I)\n",
    "# x_perturbed = mu + sigma * epsilon\n",
    "# evaluate F on all N versions\n",
    "# normalize scores F\n",
    "# update mu += epsion * F_normalized"
   ]
  },
  {
   "cell_type": "code",
   "execution_count": 4,
   "id": "sixth-sensitivity",
   "metadata": {},
   "outputs": [
    {
     "name": "stdout",
     "output_type": "stream",
     "text": [
      "iter 0. w: [-0.97744872  0.7761016   0.58003808], solution: [ 0.1 -0.3  0.5], reward: -1.524892\n",
      "iter 20. w: [-0.84037401  0.63583511  0.56575134], solution: [ 0.1 -0.3  0.5], reward: -1.328312\n",
      "iter 40. w: [-0.70097617  0.49338333  0.56009275], solution: [ 0.1 -0.3  0.5], reward: -1.128996\n",
      "iter 60. w: [-0.56593663  0.35650894  0.55192362], solution: [ 0.1 -0.3  0.5], reward: -0.936574\n",
      "iter 80. w: [-0.42584579  0.22120984  0.53710116], solution: [ 0.1 -0.3  0.5], reward: -0.741316\n",
      "iter 100. w: [-0.27953671  0.07912656  0.53450367], solution: [ 0.1 -0.3  0.5], reward: -0.537564\n",
      "iter 120. w: [-0.14075322 -0.06097908  0.52146863], solution: [ 0.1 -0.3  0.5], reward: -0.339932\n",
      "iter 140. w: [-0.01446415 -0.18969169  0.51409671], solution: [ 0.1 -0.3  0.5], reward: -0.159589\n",
      "iter 160. w: [ 0.06625434 -0.26764334  0.49831683], solution: [ 0.1 -0.3  0.5], reward: -0.046782\n",
      "iter 180. w: [ 0.09439009 -0.29012546  0.50471958], solution: [ 0.1 -0.3  0.5], reward: -0.012298\n",
      "iter 200. w: [ 0.10322947 -0.28839284  0.50265023], solution: [ 0.1 -0.3  0.5], reward: -0.012336\n",
      "iter 220. w: [ 0.0970133  -0.29582005  0.50448713], solution: [ 0.1 -0.3  0.5], reward: -0.006821\n",
      "iter 240. w: [ 0.0980262  -0.29667112  0.50360241], solution: [ 0.1 -0.3  0.5], reward: -0.005287\n",
      "iter 260. w: [ 0.1008359 -0.2977192  0.5031808], solution: [ 0.1 -0.3  0.5], reward: -0.004002\n",
      "iter 280. w: [ 0.10313349 -0.29727409  0.50138205], solution: [ 0.1 -0.3  0.5], reward: -0.004377\n"
     ]
    }
   ],
   "source": [
    "num_iters = 300\n",
    "N = 50\n",
    "d = 3\n",
    "fixed_w = np.array([0.1, -0.3, 0.5])\n",
    "mu = np.random.randn(d)\n",
    "\n",
    "sigma = 0.1\n",
    "alpha = 0.001 # learning rate\n",
    "\n",
    "for i in range(num_iters):\n",
    "    # print current fitness of the most likely parameter setting\n",
    "    if i % 20 == 0:\n",
    "        print('iter %d. w: %s, solution: %s, reward: %f' % \n",
    "        (i, str(mu), str(fixed_w), F(fixed_w,mu)))\n",
    "    noise = np.random.normal(size=(N,d))\n",
    "    #print(\"noise: \", noise)\n",
    "    x_guesses = mu + sigma*noise\n",
    "    #print(\"guesses shape: \", x_guesses.shape)\n",
    "    Fs = F(fixed_w, x_guesses)\n",
    "    #print(\"Fs shape 1: \", Fs.shape)\n",
    "    #print(\"Fs: \", Fs)\n",
    "    \n",
    "    # normalize scores\n",
    "    # X = X - mu\n",
    "    Fs_mean = np.mean(Fs)\n",
    "    Fs = Fs - Fs_mean\n",
    "    # compute sample std dev\n",
    "    std_dev = np.sqrt(np.mean(Fs**2))\n",
    "    Fs = Fs/std_dev\n",
    "    \n",
    "    \"\"\"\n",
    "    # where each row N[j] is weighted by A[j]\n",
    "    w = w + alpha/(npop*sigma) * np.dot(N.T, A)\n",
    "    \"\"\"\n",
    "    \n",
    "    # compute update\n",
    "    res1 = np.dot(noise.T,Fs)\n",
    "    #print(\"Fs shape: \", Fs.shape)\n",
    "    #print(res1.shape)\n",
    "    mu += 1/(sigma*N)*alpha * res1\n"
   ]
  },
  {
   "cell_type": "code",
   "execution_count": 5,
   "id": "productive-postcard",
   "metadata": {},
   "outputs": [],
   "source": [
    "import matplotlib.pyplot as plt\n",
    "import matplotlib.gridspec as gridspec\n",
    "from IPython import display\n",
    "plt.rcParams['image.cmap'] = 'gray'\n",
    "plt.rcParams['image.interpolation'] = 'nearest'\n",
    "%matplotlib inline"
   ]
  },
  {
   "cell_type": "code",
   "execution_count": 6,
   "id": "recent-iceland",
   "metadata": {},
   "outputs": [],
   "source": [
    "import os\n",
    "import sys\n",
    "import json\n",
    "import time\n",
    "import numpy as np\n",
    "from random import shuffle"
   ]
  },
  {
   "cell_type": "markdown",
   "id": "differential-stress",
   "metadata": {},
   "source": [
    "#### Code Comments\n",
    "\n",
    "* optimizing on a 2d terrain\n",
    "* the optimization landscape is a mixture of Gaussians\n"
   ]
  },
  {
   "cell_type": "code",
   "execution_count": 11,
   "id": "integrated-bahamas",
   "metadata": {},
   "outputs": [
    {
     "name": "stdout",
     "output_type": "stream",
     "text": [
      "(100, 100)\n"
     ]
    }
   ],
   "source": [
    "# generate a toy 2D regression dataset\n",
    "sz = 100\n",
    "X,Y = np.meshgrid(np.linspace(-1,1,sz),np.linspace(-1,1,sz))\n",
    "print(X.shape)"
   ]
  },
  {
   "cell_type": "code",
   "execution_count": 20,
   "id": "separated-devil",
   "metadata": {},
   "outputs": [
    {
     "name": "stdout",
     "output_type": "stream",
     "text": [
      "-1.3\n"
     ]
    }
   ],
   "source": [
    "mux = 0.3\n",
    "res = X - mux\n",
    "print(res[0][0])"
   ]
  },
  {
   "cell_type": "code",
   "execution_count": 21,
   "id": "employed-implementation",
   "metadata": {},
   "outputs": [
    {
     "name": "stdout",
     "output_type": "stream",
     "text": [
      "2.0\n"
     ]
    }
   ],
   "source": [
    "print(1/2.0*2**2)"
   ]
  },
  {
   "cell_type": "code",
   "execution_count": 37,
   "id": "negative-seven",
   "metadata": {},
   "outputs": [
    {
     "name": "stdout",
     "output_type": "stream",
     "text": [
      "1.09\n"
     ]
    }
   ],
   "source": [
    "mux,muy,sigma=0.3,-0.3,4\n",
    "#G1 = np.exp(-((X-mux)**2+(Y-muy)**2)/2.0*sigma**2)\n",
    "\n",
    "G1 = np.exp(-((X[0][0]-mux)**2+(Y[0][0]-muy)**2)/2.0*sigma**2)\n",
    "#print(G1)\n",
    "\n",
    "# values between 0,1\n",
    "\n",
    "# testing\n",
    "\n",
    "val = ((X[0][0]-mux)**2+(Y[0][0]-muy)**2)/2.0\n",
    "print(val)\n",
    "\n",
    "\n",
    "# ohh, andrej is doing sigma as inverse of sigma\n",
    "# why is he ignoring normalization\n",
    "# ^ I still don't understand this but it's fine, we can move on"
   ]
  },
  {
   "cell_type": "code",
   "execution_count": 47,
   "id": "physical-cigarette",
   "metadata": {},
   "outputs": [
    {
     "name": "stdout",
     "output_type": "stream",
     "text": [
      "0.18451952399298924 0.9999500063512443\n",
      "0.18451952399298924 0.9999500063512443\n",
      "0.07730474044329971 0.9999836752684401\n",
      "0.1826835240527347 0.999948986098723\n"
     ]
    }
   ],
   "source": [
    "mux,muy,sigma=0.3,-0.3,4\n",
    "#G1 = np.exp(-((X-mux)**2+(Y-muy)**2)/2.0*sigma**2)\n",
    "\n",
    "G1 = np.exp(-((X-mux)**2+(Y-muy)**2)/2.0)\n",
    "print(G1.min(), G1.max())\n",
    "mux,muy,sigma=-0.3,0.3,2\n",
    "G2 = np.exp(-((X-mux)**2+(Y-muy)**2)/2.0)\n",
    "print(G2.min(), G2.max())\n",
    "mux,muy,sigma=0.6,0.6,2\n",
    "G3 = np.exp(-((X-mux)**2+(Y-muy)**2)/2.0)\n",
    "print(G3.min(), G3.max())\n",
    "mux,muy,sigma=-0.4,-0.2,3\n",
    "G4 = np.exp(-((X-mux)**2+(Y-muy)**2)/2.0)\n",
    "print(G4.min(), G4.max())"
   ]
  },
  {
   "cell_type": "code",
   "execution_count": 44,
   "id": "female-screen",
   "metadata": {},
   "outputs": [
    {
     "data": {
      "image/png": "[encoded data removed]",
      "text/plain": [
       "<Figure size 432x288 with 1 Axes>"
      ]
     },
     "metadata": {
      "needs_background": "light"
     },
     "output_type": "display_data"
    }
   ],
   "source": [
    "\n",
    "mux,muy,sigma=0.3,-0.3,4\n",
    "#G1 = np.exp(-((X-mux)**2+(Y-muy)**2)/2.0*sigma**2)\n",
    "\n",
    "G1 = np.exp(-((X-mux)**2+(Y-muy)**2)/2.0*sigma**2)\n",
    "\n",
    "mux,muy,sigma=-0.3,0.3,2\n",
    "G2 = np.exp(-((X-mux)**2+(Y-muy)**2)/2.0*sigma**2)\n",
    "mux,muy,sigma=0.6,0.6,2\n",
    "G3 = np.exp(-((X-mux)**2+(Y-muy)**2)/2.0*sigma**2)\n",
    "mux,muy,sigma=-0.4,-0.2,3\n",
    "G4 = np.exp(-((X-mux)**2+(Y-muy)**2)/2.0*sigma**2)\n",
    "\n",
    "#G = G1 \n",
    "G = G1 + G2 - G3 - G4\n",
    "fig,ax = plt.subplots()\n",
    "im = ax.imshow(G, cmap='jet')\n",
    "#im = ax.imshow(G, vmin=-1, vmax=1, cmap='jet')\n",
    "#plt.axis('off')"
   ]
  },
  {
   "cell_type": "code",
   "execution_count": 9,
   "id": "subjective-emission",
   "metadata": {},
   "outputs": [
    {
     "data": {
      "image/png": "[encoded data removed]",
      "text/plain": [
       "<Figure size 1440x360 with 4 Axes>"
      ]
     },
     "metadata": {
      "needs_background": "light"
     },
     "output_type": "display_data"
    }
   ],
   "source": [
    "np.random.seed(3)\n",
    "nn = 4 # number of steps to take (and plot horizontally)\n",
    "alpha = 0.03 # learning rate\n",
    "sigma = 3 # standard deviation of the samples around current parameter vector\n",
    "\n",
    "w = np.array([70.0, 60.0]) # start point\n",
    "plt.figure(figsize=(20,5))\n",
    "\n",
    "prevx, prevy = [], []\n",
    "for q in range(nn):\n",
    "    \n",
    "    # draw the optimization landscape\n",
    "    ax1 = plt.subplot(1,nn,q+1)\n",
    "    plt.imshow(G, vmin=-1, vmax=1, cmap='jet')\n",
    "\n",
    "    # draw a population of samples in black\n",
    "    noise = np.random.randn(200, 2)\n",
    "    wp = np.expand_dims(w, 0) + sigma*noise\n",
    "    x,y = zip(*wp)\n",
    "    plt.scatter(x,y,4,'k', edgecolors='face')\n",
    "\n",
    "    # draw the current parameter vector in white\n",
    "    plt.scatter([w[0]],[w[1]],40,'w', edgecolors='face')\n",
    "\n",
    "    # draw estimated gradient as white arrow\n",
    "    R = np.array([G[int(wi[1]), int(wi[0])] for wi in wp])\n",
    "    R -= R.mean()\n",
    "    R /= R.std() # standardize the rewards to be N(0,1) gaussian\n",
    "    g = np.dot(R, noise)\n",
    "    u = alpha * g\n",
    "    plt.arrow(w[0], w[1], u[0], u[1], head_width=3, head_length=5, fc='w', ec='w')\n",
    "    plt.axis('off')\n",
    "    plt.title('iteration %d, reward %.2f' % (q+1, G[int(w[0]), int(w[1])]))\n",
    "    \n",
    "    # draw the history of optimization as a white line\n",
    "    prevx.append(w[0])\n",
    "    prevy.append(w[1])\n",
    "    if len(prevx) > 0:\n",
    "        plt.plot(prevx, prevy, 'wo-')\n",
    "    \n",
    "    w += u\n",
    "    plt.axis('tight')"
   ]
  },
  {
   "cell_type": "code",
   "execution_count": null,
   "id": "appreciated-proposal",
   "metadata": {},
   "outputs": [],
   "source": []
  }
 ],
 "metadata": {
  "kernelspec": {
   "display_name": "Python 3",
   "language": "python",
   "name": "python3"
  },
  "language_info": {
   "codemirror_mode": {
    "name": "ipython",
    "version": 3
   },
   "file_extension": ".py",
   "mimetype": "text/x-python",
   "name": "python",
   "nbconvert_exporter": "python",
   "pygments_lexer": "ipython3",
   "version": "3.6.12"
  }
 },
 "nbformat": 4,
 "nbformat_minor": 5
}
