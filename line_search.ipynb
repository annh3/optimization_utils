{
 "cells": [
  {
   "cell_type": "markdown",
   "id": "crude-timber",
   "metadata": {},
   "source": [
    "### Backtracking Line Search ###\n",
    "\n",
    "* Given a starting position $x$ and a search direction $p$, the task of a line search is to determine a step size $\\alpha > 0$ that adequately reduces $f$\n",
    "* I.e., to find a value of $\\alpha$ that reduces $f(x + \\alpha p)$ relative to $f(x)$\n",
    "* The backtracking line search starts with a large estimate of $\\alpha$ and iteratively shrinks it\n",
    "* Until a value is found small enough that is tolerable"
   ]
  },
  {
   "cell_type": "code",
   "execution_count": null,
   "id": "democratic-translation",
   "metadata": {},
   "outputs": [],
   "source": [
    "def line_search(f, c , tau, x, p, tol):\n",
    "    pass"
   ]
  }
 ],
 "metadata": {
  "kernelspec": {
   "display_name": "Python 3",
   "language": "python",
   "name": "python3"
  },
  "language_info": {
   "codemirror_mode": {
    "name": "ipython",
    "version": 3
   },
   "file_extension": ".py",
   "mimetype": "text/x-python",
   "name": "python",
   "nbconvert_exporter": "python",
   "pygments_lexer": "ipython3",
   "version": "3.6.12"
  }
 },
 "nbformat": 4,
 "nbformat_minor": 5
}
