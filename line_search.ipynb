{
 "cells": [
  {
   "cell_type": "markdown",
   "id": "crude-timber",
   "metadata": {},
   "source": [
    "### Line Search ###\n",
    "\n",
    "* Let $f = \\mathbb{R}^n \\rightarrow \\mathbb{R}$ be given and suppose that $x_c$ is our current best estimate of $min_{x \\in \\mathbb{R}^n} f(x)$\n",
    "* given $d \\in \\mathbb{R}^n$, the search direction, we construct the one dimensional function\n",
    "\n",
    "$\\begin{equation}\n",
    "\\phi(t) = f(x_c + td)\n",
    "\\end{equation}$\n",
    "\n",
    "* We can then try to approximately minimize $\\phi$\n",
    "* We call $d$ a search direction and the approximate solution to the minimization problem $\\bar{t}$\n",
    "\n",
    "* The new estimate of the solution to the original problem is $x_{+} = x_c + \\bar{t}d$"
   ]
  },
  {
   "cell_type": "markdown",
   "id": "pretty-correlation",
   "metadata": {},
   "source": [
    "#### Backtracking Line Search ####\n",
    "\n",
    "* Initialization: Choose $\\gamma \\in (0,1)$ and $c \\in (0,1)$\n",
    "* Compute\n",
    "\n",
    "$\\begin{align*}\n",
    "t^{*} &= max \\gamma^{v}\\\\\n",
    "&= \\text{s.t. } v \\in \\{0,1,2,...\\} \\text{ and } \\\\\n",
    "& f(x_c + \\gamma^{v}d) \\le f(x_c) + c \\gamma^{v} f'(x_c;d) \\\\\n",
    "\\end{align*}$\n",
    "\n",
    "* Where we pass in $f'(x_c;d)$"
   ]
  },
  {
   "cell_type": "code",
   "execution_count": 3,
   "id": "democratic-translation",
   "metadata": {},
   "outputs": [],
   "source": [
    "def line_search(f, x_c, search_dir, gamma, grad_dir, tol):\n",
    "    t = 1\n",
    "    f_c = f(x_c)\n",
    "    new_f = f(x_c + search_dir)\n",
    "    derphi = np.dot(grad_dir, search_dir)\n",
    "    while new_f > f_c + t*derphi + tol:\n",
    "        t = gamma * t\n",
    "        new_f = f(x_c + t*search_dir)\n",
    "    return t"
   ]
  },
  {
   "cell_type": "code",
   "execution_count": null,
   "id": "angry-polls",
   "metadata": {},
   "outputs": [],
   "source": []
  }
 ],
 "metadata": {
  "kernelspec": {
   "display_name": "Python 3",
   "language": "python",
   "name": "python3"
  },
  "language_info": {
   "codemirror_mode": {
    "name": "ipython",
    "version": 3
   },
   "file_extension": ".py",
   "mimetype": "text/x-python",
   "name": "python",
   "nbconvert_exporter": "python",
   "pygments_lexer": "ipython3",
   "version": "3.6.12"
  }
 },
 "nbformat": 4,
 "nbformat_minor": 5
}
