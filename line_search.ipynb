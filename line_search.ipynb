{
 "cells": [
  {
   "cell_type": "code",
   "execution_count": 1,
   "id": "graphic-google",
   "metadata": {},
   "outputs": [],
   "source": [
    "import numpy as np"
   ]
  },
  {
   "cell_type": "markdown",
   "id": "crude-timber",
   "metadata": {},
   "source": [
    "### Line Search ###\n",
    "\n",
    "* Let $f = \\mathbb{R}^n \\rightarrow \\mathbb{R}$ be given and suppose that $x_c$ is our current best estimate of $min_{x \\in \\mathbb{R}^n} f(x)$\n",
    "* given $d \\in \\mathbb{R}^n$, the search direction, we construct the one dimensional function\n",
    "\n",
    "$\\begin{equation}\n",
    "\\phi(t) = f(x_c + td)\n",
    "\\end{equation}$\n",
    "\n",
    "* We can then try to approximately minimize $\\phi$\n",
    "* We call $d$ a search direction and the approximate solution to the minimization problem $\\bar{t}$\n",
    "\n",
    "* The new estimate of the solution to the original problem is $x_{+} = x_c + \\bar{t}d$"
   ]
  },
  {
   "cell_type": "markdown",
   "id": "pretty-correlation",
   "metadata": {},
   "source": [
    "#### Backtracking Line Search ####\n",
    "\n",
    "* Initialization: Choose $\\gamma \\in (0,1)$ and $c \\in (0,1)$\n",
    "* Compute\n",
    "\n",
    "$\\begin{align*}\n",
    "t^{*} &= max \\gamma^{v}\\\\\n",
    "&= \\text{s.t. } v \\in \\{0,1,2,...\\} \\text{ and } \\\\\n",
    "& f(x_c + \\gamma^{v}d) \\le f(x_c) + c \\gamma^{v} f'(x_c;d) \\\\\n",
    "\\end{align*}$\n",
    "\n",
    "* Where we pass in $f'(x_c;d)$"
   ]
  },
  {
   "cell_type": "code",
   "execution_count": 2,
   "id": "democratic-translation",
   "metadata": {},
   "outputs": [],
   "source": [
    "# def line_search(f, x_c, search_dir, gamma, grad_dir, tol):\n",
    "#     t = 1\n",
    "#     f_c = f(x_c)\n",
    "#     new_f = f(x_c + search_dir)\n",
    "#     derphi = np.dot(grad_dir, search_dir)\n",
    "#     while new_f > f_c + t*derphi + tol:\n",
    "#         t = gamma * t\n",
    "#         new_f = f(x_c + t*search_dir)\n",
    "#     return t"
   ]
  },
  {
   "cell_type": "code",
   "execution_count": 3,
   "id": "angry-polls",
   "metadata": {},
   "outputs": [],
   "source": [
    "def parabola(X):\n",
    "    return X**2\n",
    "\n",
    "# dF(X) = 2X"
   ]
  },
  {
   "cell_type": "code",
   "execution_count": 4,
   "id": "prerequisite-entrepreneur",
   "metadata": {},
   "outputs": [],
   "source": [
    "# Choose x_c = [1,1]\n",
    "# Grad_dir = [2,2] \n",
    "# Choose search_dir [-2,-2]\n",
    "# tol = 1e-3\n",
    "# Choose c = 0.5"
   ]
  },
  {
   "cell_type": "code",
   "execution_count": 11,
   "id": "severe-sculpture",
   "metadata": {},
   "outputs": [],
   "source": [
    "x_c = np.asarray([1])\n",
    "grad_dir = np.asarray([2])\n",
    "search_dir = np.asarray([-2])\n",
    "tol = 1e-3\n",
    "c = 0.5\n",
    "rho = 0.9"
   ]
  },
  {
   "cell_type": "code",
   "execution_count": 12,
   "id": "adverse-northeast",
   "metadata": {},
   "outputs": [],
   "source": [
    "def line_search(f, x_c, c, search_dir, rho, grad_dir, tol=1e-3, max_iter=100):\n",
    "    alpha = 1\n",
    "    iter = 0\n",
    "    while iter < max_iter and f(x_c + alpha * search_dir) > f(x_c) + (c * alpha * grad_dir.T @ search_dir) + tol:\n",
    "        alpha = rho * alpha\n",
    "        iter = iter + 1\n",
    "        print(\"iter: \", iter)\n",
    "        print(\"lhs: \", f(x_c + alpha * search_dir))\n",
    "        print(\"rhs: \", f(x_c) + (c * alpha * grad_dir.T @ search_dir) + tol)\n",
    "        print(\"\\n\")\n",
    "    return alpha, f(x_c + alpha * search_dir)\n",
    "        "
   ]
  },
  {
   "cell_type": "code",
   "execution_count": 13,
   "id": "documented-lecture",
   "metadata": {},
   "outputs": [
    {
     "name": "stdout",
     "output_type": "stream",
     "text": [
      "iter:  1\n",
      "lhs:  [0.64]\n",
      "rhs:  [-0.799]\n",
      "\n",
      "\n",
      "iter:  2\n",
      "lhs:  [0.3844]\n",
      "rhs:  [-0.619]\n",
      "\n",
      "\n",
      "iter:  3\n",
      "lhs:  [0.209764]\n",
      "rhs:  [-0.457]\n",
      "\n",
      "\n",
      "iter:  4\n",
      "lhs:  [0.09746884]\n",
      "rhs:  [-0.3112]\n",
      "\n",
      "\n",
      "iter:  5\n",
      "lhs:  [0.03275376]\n",
      "rhs:  [-0.17998]\n",
      "\n",
      "\n",
      "iter:  6\n",
      "lhs:  [0.00395415]\n",
      "rhs:  [-0.061882]\n",
      "\n",
      "\n",
      "iter:  7\n",
      "lhs:  [0.0018841]\n",
      "rhs:  [0.0444062]\n",
      "\n",
      "\n"
     ]
    }
   ],
   "source": [
    "alpha, f_val = line_search(parabola, x_c, c, search_dir, rho, grad_dir)"
   ]
  },
  {
   "cell_type": "code",
   "execution_count": 14,
   "id": "optical-behavior",
   "metadata": {},
   "outputs": [
    {
     "name": "stdout",
     "output_type": "stream",
     "text": [
      "alpha:  0.47829690000000014\n",
      "f value:  [0.0018841]\n"
     ]
    }
   ],
   "source": [
    "print(\"alpha: \", alpha)\n",
    "print(\"f value: \", f_val)"
   ]
  },
  {
   "cell_type": "code",
   "execution_count": null,
   "id": "marked-speaker",
   "metadata": {},
   "outputs": [],
   "source": [
    "# Nice!"
   ]
  }
 ],
 "metadata": {
  "kernelspec": {
   "display_name": "Python 3",
   "language": "python",
   "name": "python3"
  },
  "language_info": {
   "codemirror_mode": {
    "name": "ipython",
    "version": 3
   },
   "file_extension": ".py",
   "mimetype": "text/x-python",
   "name": "python",
   "nbconvert_exporter": "python",
   "pygments_lexer": "ipython3",
   "version": "3.6.12"
  }
 },
 "nbformat": 4,
 "nbformat_minor": 5
}
