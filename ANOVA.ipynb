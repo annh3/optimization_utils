{
 "cells": [
  {
   "cell_type": "markdown",
   "id": "polyphonic-placement",
   "metadata": {},
   "source": [
    "### ANOVA ###\n",
    "\n",
    "* ANOVA is based on the law of total variance, where the observed variance in a particular variable is partitioned into compoments attributable to different sources of variation\n",
    "* ANOVA, in its simplest form, provides a statistical test of whether two or more population means are equal, and therefore generalizes the t-test beyond two means\n"
   ]
  },
  {
   "cell_type": "markdown",
   "id": "aware-verification",
   "metadata": {},
   "source": [
    "### History ###\n",
    "\n",
    "* Hypothesis testing, the partitioning of sums of squares, experimental techniques and the additive model\n",
    "* Laplace was performing hypothesis testing in the 1770s \n",
    "* Around 1800, Laplace and GAuss developed the least-squares method for combining observations, which improved upon methods then used in astronomy and geodesy\n",
    "* Laplace knew how to estimate a variance from a residual (rather than a total) sum of squares\n",
    "* Before 1800, astronomers had isolated observational errors resulting from reaction times and had developed methods of reducing the errors\n",
    "* Ronald Fisher introduced the term variance and proposed its formal analysis in a 1918 article "
   ]
  },
  {
   "cell_type": "markdown",
   "id": "animal-petersburg",
   "metadata": {},
   "source": [
    "### Example ###\n",
    "\n",
    "* Dog show\n",
    "* Not a random sampling of the bread: typically limited to dogs that are adult, pure-bred, and exemplary\n",
    "* Explain the distribution of weights by dividing the dog population into groups based on those characteristics\n",
    "* A successful grouping will split dogs such that (a) each group as a low variance of dog weights (meaning the gorup is relatively homogeneous) and (b) the mean of each group is distinct\n",
    "* The analysis of variance provides the formal tools to justify these intuitive judgments\n"
   ]
  },
  {
   "cell_type": "markdown",
   "id": "israeli-stephen",
   "metadata": {},
   "source": [
    "### Background and Terminology ###\n",
    "\n",
    "* A test result is called statistically significant if it is deemed unlikely to have occured by chance, assuming the truth of the null hypothesis\n",
    "* A statistically signifiant result, when a probability (p-value) is less than a pre-specified threshold (significance level), justifies the rejection of the null hypothesis, but only if the a priori probability of the null hypothesis is not high\n",
    "* In typical application of ANOVA, the null hypothesis is that all groups are random samples from the same population\n",
    "* For example, when studying the effect of different treatments on similar samples of patients, the null hypothesis would be that all treatments have the same effect (perhaps none)\n",
    "* Rejecting the null hypothesis is taken to mean that the differences in observed effects between treatment groups are unlikely to be due to random chance\n",
    "\n",
    "* By construction, hypothesis testing limits the rate of Type I errors (false positives)\n",
    "* Experimenters also wish to limit Type II errors (false negatives)\n",
    "* The rate of Type II errors depends largely on sample size (the rate is larger for smaller smaples), significance level (when the standard of proof is high, the chances of overlooking a discovery are also high) and effect size (a smaller effect size is more prone to Type II error)\n",
    "\n"
   ]
  },
  {
   "cell_type": "markdown",
   "id": "assured-stevens",
   "metadata": {},
   "source": [
    "### Uses ###\n",
    "\n",
    "\"Classical\" ANOVA for balanced data does three things at once:\n",
    "\n",
    "1. As exploratory data analysis, an ANOVA employs an additive data decomposition, and its sums of squares indicate the varianc eof each component of the decomposition (or, equivalently, each set of terms of a linear model)\n",
    "2. Comparisons of mean squares, along iwth an F-test allow testing of a nested sequence of models\n",
    "3. Closely related to ANOVA is the linear model fit with coefficient estimates and standard errors"
   ]
  },
  {
   "cell_type": "code",
   "execution_count": null,
   "id": "floating-glenn",
   "metadata": {},
   "outputs": [],
   "source": []
  }
 ],
 "metadata": {
  "kernelspec": {
   "display_name": "Python 3",
   "language": "python",
   "name": "python3"
  },
  "language_info": {
   "codemirror_mode": {
    "name": "ipython",
    "version": 3
   },
   "file_extension": ".py",
   "mimetype": "text/x-python",
   "name": "python",
   "nbconvert_exporter": "python",
   "pygments_lexer": "ipython3",
   "version": "3.6.12"
  }
 },
 "nbformat": 4,
 "nbformat_minor": 5
}
